{
 "cells": [
  {
   "cell_type": "markdown",
   "id": "39b274ed-c8aa-452e-bbb8-26de103867ee",
   "metadata": {
    "tags": []
   },
   "source": [
    "# Data Science Tools and Ecosystem"
   ]
  },
  {
   "cell_type": "markdown",
   "id": "3ecd3b79-b4f9-48d8-be62-35fc3728f881",
   "metadata": {},
   "source": [
    "In this notebook, Data Science Tools and Ecosystem are summarized."
   ]
  },
  {
   "cell_type": "markdown",
   "id": "466efe91-eda6-460b-8eeb-4cdd00969762",
   "metadata": {},
   "source": [
    "**Objectives:**\n",
    "\n",
    "* List popular languages for Data Science.\n",
    "* List commonly used libraries by Data Science.\n",
    "* Indicate development environment open source tools used in Data Science using a table.\n",
    "* Evaluate arithmetic expressions."
   ]
  },
  {
   "cell_type": "markdown",
   "id": "1bfd46b8-60c5-4c2d-96b5-68b912b18c50",
   "metadata": {},
   "source": [
    "Some of the most popular languages that Data Scientists use are:\n",
    "\n",
    "1. Python\n",
    "2. SQL\n",
    "3. JavaScript\n",
    "4. Julia\n",
    "5. R\n",
    "6. Scala\n",
    "7. C/C++"
   ]
  },
  {
   "cell_type": "markdown",
   "id": "a9bfaff6-7832-4aee-ba3f-dba19a68e1a6",
   "metadata": {},
   "source": [
    "Some of the commonly used libraries used by Data Scientists include:\n",
    "\n",
    "1. NumPy\n",
    "2. SciPy\n",
    "3. Matplotlib\n",
    "4. TensorFlow\n",
    "5. Bob\n",
    "6. Pandas\n",
    "7. PyBrain"
   ]
  },
  {
   "cell_type": "markdown",
   "id": "f53d18a3-fa09-44f9-8f54-27795c7b730e",
   "metadata": {
    "tags": []
   },
   "source": [
    "|Data Science Tools|\n",
    "|------------------|\n",
    "|Visual Studio Code|\n",
    "|Apache Spark |\n",
    "|RStudio|"
   ]
  },
  {
   "cell_type": "markdown",
   "id": "565a7ad4-89b1-4782-bb64-1492b89ce0c9",
   "metadata": {
    "tags": []
   },
   "source": [
    "### Below are a few examples of evaluating arithmetic expressions in Python."
   ]
  },
  {
   "cell_type": "code",
   "execution_count": 9,
   "id": "26eb2655-b2d0-4332-8ee2-91a4c18addb3",
   "metadata": {
    "tags": []
   },
   "outputs": [
    {
     "data": {
      "text/plain": [
       "17"
      ]
     },
     "execution_count": 9,
     "metadata": {},
     "output_type": "execute_result"
    }
   ],
   "source": [
    "#This is a simple arithmetic expression to multiply then add integers.\n",
    "\n",
    "(3 * 4) + 5"
   ]
  },
  {
   "cell_type": "code",
   "execution_count": 10,
   "id": "8bf38388-85f8-4580-87e5-3c207a157eaf",
   "metadata": {
    "tags": []
   },
   "outputs": [
    {
     "data": {
      "text/plain": [
       "3.3333333333333335"
      ]
     },
     "execution_count": 10,
     "metadata": {},
     "output_type": "execute_result"
    }
   ],
   "source": [
    "#This will convert 200 minutes to hours by dividing by 60.\n",
    "\n",
    "200 / 60"
   ]
  },
  {
   "cell_type": "markdown",
   "id": "7b713c6d-2bbe-41be-a07f-9e4daf849d53",
   "metadata": {},
   "source": [
    "## Author\n",
    "Ethan Eskelund"
   ]
  }
 ],
 "metadata": {
  "kernelspec": {
   "display_name": "Python",
   "language": "python",
   "name": "conda-env-python-py"
  },
  "language_info": {
   "codemirror_mode": {
    "name": "ipython",
    "version": 3
   },
   "file_extension": ".py",
   "mimetype": "text/x-python",
   "name": "python",
   "nbconvert_exporter": "python",
   "pygments_lexer": "ipython3",
   "version": "3.7.12"
  }
 },
 "nbformat": 4,
 "nbformat_minor": 5
}
